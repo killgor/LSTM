{
 "cells": [
  {
   "cell_type": "code",
   "execution_count": 13,
   "metadata": {},
   "outputs": [],
   "source": [
    "import pandas as pd\n",
    "import matplotlib\n",
    "import numpy as np\n",
    "from matplotlib import pyplot as plt"
   ]
  },
  {
   "cell_type": "code",
   "execution_count": 2,
   "metadata": {
    "scrolled": false
   },
   "outputs": [
    {
     "name": "stdout",
     "output_type": "stream",
     "text": [
      "<class 'pandas.core.frame.DataFrame'>\n",
      "DatetimeIndex: 1036988 entries, 2016-12-31 00:00:52 to 2018-12-30 23:59:19\n",
      "Data columns (total 1 columns):\n",
      "prs(m)    1036833 non-null float64\n",
      "dtypes: float64(1)\n",
      "memory usage: 15.8 MB\n"
     ]
    }
   ],
   "source": [
    "#load dataset, Time(UTC),prs(m),rad(m)\n",
    "df = pd.read_csv('data2y.csv',sep=',', header=0, index_col=0, squeeze=True, parse_dates=True)\n",
    "#non-null object to float64\n",
    "df['prs(m)'] = pd.to_numeric(df['prs(m)'], errors='coerce')\n",
    "#prs(m) looks more stable\n",
    "df.drop(df.columns[[1]], axis=1, inplace=True)\n",
    "df.info()"
   ]
  },
  {
   "cell_type": "code",
   "execution_count": 3,
   "metadata": {
    "scrolled": true
   },
   "outputs": [],
   "source": [
    "df = df.interpolate()"
   ]
  },
  {
   "cell_type": "code",
   "execution_count": 4,
   "metadata": {},
   "outputs": [],
   "source": [
    "# one week for prediction work\n",
    "unknown = 60*24*7\n",
    "r = df[:-unknown]\n",
    "p = df[-unknown:]"
   ]
  },
  {
   "cell_type": "code",
   "execution_count": 5,
   "metadata": {
    "scrolled": true
   },
   "outputs": [
    {
     "name": "stdout",
     "output_type": "stream",
     "text": [
      "<class 'pandas.core.frame.DataFrame'>\n",
      "DatetimeIndex: 1026908 entries, 2016-12-31 00:00:52 to 2018-12-23 05:52:17\n",
      "Data columns (total 1 columns):\n",
      "prs(m)    1026908 non-null float64\n",
      "dtypes: float64(1)\n",
      "memory usage: 15.7 MB\n"
     ]
    }
   ],
   "source": [
    "r.info()"
   ]
  },
  {
   "cell_type": "code",
   "execution_count": 6,
   "metadata": {
    "scrolled": true
   },
   "outputs": [
    {
     "name": "stdout",
     "output_type": "stream",
     "text": [
      "<class 'pandas.core.frame.DataFrame'>\n",
      "DatetimeIndex: 10080 entries, 2018-12-23 05:53:17 to 2018-12-30 23:59:19\n",
      "Data columns (total 1 columns):\n",
      "prs(m)    10080 non-null float64\n",
      "dtypes: float64(1)\n",
      "memory usage: 157.5 KB\n"
     ]
    }
   ],
   "source": [
    "p.info()"
   ]
  },
  {
   "cell_type": "code",
   "execution_count": 29,
   "metadata": {},
   "outputs": [],
   "source": [
    "serie= r['prs(m)']\n",
    "serie = serie - numpy.mean(p.values)\n",
    "\n",
    "dt = 1/60\n",
    "\n",
    "stime = r.index[0]\n",
    "lat = -33.02730833"
   ]
  },
  {
   "cell_type": "markdown",
   "metadata": {},
   "source": [
    "\n",
    "# TTIDE"
   ]
  },
  {
   "cell_type": "code",
   "execution_count": 27,
   "metadata": {},
   "outputs": [
    {
     "name": "stdout",
     "output_type": "stream",
     "text": [
      "0.3lfk\n"
     ]
    }
   ],
   "source": [
    "import ttide\n",
    "print(ttide.__version__)"
   ]
  },
  {
   "cell_type": "code",
   "execution_count": 30,
   "metadata": {
    "scrolled": true
   },
   "outputs": [
    {
     "name": "stderr",
     "output_type": "stream",
     "text": [
      "C:\\Users\\sergi\\Anaconda3\\lib\\site-packages\\ttide-0.3_exp-py3.7.egg\\ttide\\t_tide.py:345: FutureWarning: `rcond` parameter will change to the default of machine precision times ``max(M, N)`` where M and N are the input matrix dimensions.\n",
      "To use the future default and silence this warning we advise to pass `rcond=None`, to keep using the old, explicitly pass `rcond=-1`.\n",
      "  coef = np.linalg.lstsq(lhs, rhs)[0].T\n",
      "C:\\Users\\sergi\\Anaconda3\\lib\\site-packages\\numpy\\lib\\type_check.py:161: FutureWarning: `real` is deprecated and will be removed in a future version. To eliminate this warning for a Series `ser`, use `np.real(ser.to_numpy())` or `ser.to_numpy().real`.\n",
      "  return val.real\n",
      "C:\\Users\\sergi\\Anaconda3\\lib\\site-packages\\numpy\\lib\\type_check.py:204: FutureWarning: `imag` is deprecated and will be removed in a future version. To eliminate this warning for a Series `ser`, use `np.imag(ser.to_numpy())` or `ser.to_numpy().imag`.\n",
      "  return val.imag\n"
     ]
    },
    {
     "name": "stdout",
     "output_type": "stream",
     "text": [
      "-----------------------------------\n",
      "nobs = 1026908 \n",
      "ngood = 1026907 \n",
      "record length (days) = 713.13\n",
      "start time: 2016-12-31 00:00:52\n",
      "rayleigh criterion = 1.0\n",
      "\n",
      "Greenwich phase computed with nodal\n",
      "                   corrections applied to amplitude\n",
      "                   and phase relative to center time\n",
      "\n",
      "x0= 0.0334  xtrend= 0\n",
      "var(data)= 0.14    var(prediction)= 0.02    var(residual)= 0.12\n",
      "var(prediction)/var(data) (%) = 16.6\n",
      "\n",
      "        tidal amplitude and phase with 95 % CI estimates\n",
      " tide      freq        amp      amp_err   pha      pha_err    snr\n",
      "* SA    0.0001141     0.0461     0.013    246.15     36.65        12\n",
      "* SSA   0.0002282     0.0505     0.018    199.34     28.22       7.7\n",
      "  MSM   0.0013098     0.0035     0.017    344.10    117.76     0.039\n",
      "  MM    0.0015122     0.0104     0.015    235.42     79.65      0.49\n",
      "  MSF   0.0028219     0.0018     0.016    306.89    205.17     0.013\n",
      "  MF    0.0030501     0.0029     0.016    128.50    181.82     0.031\n",
      "  ALP1  0.0343966     0.0009     0.016    280.88    277.83    0.0031\n",
      "  2Q1   0.0357064     0.0016     0.016    331.34    255.67     0.011\n",
      "  SIG1  0.0359087     0.0020     0.018     60.08    236.79     0.012\n",
      "  Q1    0.0372185     0.0027     0.017     87.54    244.76     0.026\n",
      "  RHO1  0.0374209     0.0050     0.015    238.37    163.17      0.11\n",
      "  O1    0.0387307     0.0017     0.016    127.30    237.04     0.011\n",
      "  TAU1  0.0389588     0.0214     0.019    195.46     48.41       1.3\n",
      "  BET1  0.0400404     0.0117     0.022    297.17    118.26      0.29\n",
      "  NO1   0.0402686     0.0094     0.027    232.20    164.41      0.12\n",
      "  CHI1  0.0404710     0.0025     0.016    174.31    240.90     0.025\n",
      "  PI1   0.0414385     0.0051     0.014     74.14    179.17      0.13\n",
      "  P1    0.0415526     0.0058     0.016     18.99    149.28      0.14\n",
      "  S1    0.0416667     0.0365     0.031    229.51     47.30       1.4\n",
      "  K1    0.0417807     0.0267     0.024     91.25     49.02       1.3\n",
      "  PSI1  0.0418948     0.0098     0.018    121.22    127.92       0.3\n",
      "  PHI1  0.0420089     0.0199     0.022     26.57     65.86      0.83\n",
      "  THE1  0.0430905     0.0155     0.024    262.76     86.23      0.43\n",
      "  J1    0.0432929     0.0061     0.018    135.17    184.96      0.11\n",
      "  SO1   0.0446027     0.0036     0.013    126.17    196.57      0.08\n",
      "  OO1   0.0448308     0.0081     0.032     18.11    198.33     0.065\n",
      "  UPS1  0.0463430     0.0043     0.029    282.43    219.44     0.022\n",
      "  OQ2   0.0759749     0.0058     0.040    334.29    223.11     0.021\n",
      "  EPS2  0.0761773     0.0067     0.032    197.84    226.71     0.045\n",
      "  2N2   0.0774871     0.0088     0.038    196.16    211.39     0.053\n",
      "  MU2   0.0776895     0.0040     0.033     88.28    257.04     0.014\n",
      "  N2    0.0789992     0.0088     0.033     41.72    193.68     0.072\n",
      "  NU2   0.0792016     0.0157     0.034    182.81    142.05      0.21\n",
      "* GAM2  0.0803090     0.1294     0.056    166.58     24.56       5.3\n",
      "* H1    0.0803973     0.1014     0.045    138.01     26.15       5.1\n",
      "  M2    0.0805114     0.0365     0.037    323.57     85.70         1\n",
      "* H2    0.0806255     0.0846     0.050      7.16     38.41       2.8\n",
      "* MKS2  0.0807396     0.1002     0.063     70.43     35.72       2.5\n",
      "* LDA2  0.0818212     0.0691     0.040    200.07     38.50         3\n",
      "  L2    0.0820236     0.0087     0.030    240.37    194.56     0.087\n",
      "  T2    0.0832193     0.0058     0.033    110.18    207.87     0.031\n",
      "  S2    0.0833333     0.0082     0.041    127.57    220.11      0.04\n",
      "  R2    0.0834474     0.0160     0.033    204.37    153.93      0.24\n",
      "  K2    0.0835615     0.0217     0.045     16.41    159.89      0.23\n",
      "  MSN2  0.0848455     0.0101     0.033     33.27    235.01     0.092\n",
      "  ETA2  0.0850736     0.0387     0.058    299.07    116.44      0.45\n",
      "  MO3   0.1192421     0.0009     0.002    306.10    120.32      0.27\n",
      "  M3    0.1207671     0.0003     0.001    232.24    212.57     0.061\n",
      "  SO3   0.1220640     0.0005     0.002    230.18    186.12     0.073\n",
      "  MK3   0.1222921     0.0002     0.001    323.12    230.47     0.021\n",
      "  SK3   0.1251141     0.0004     0.001    109.41    181.77     0.083\n",
      "  MN4   0.1595106     0.0004     0.001     82.75    145.48      0.23\n",
      "  M4    0.1610228     0.0004     0.001    347.14    158.82      0.17\n",
      "  SN4   0.1623326     0.0003     0.001    136.42    167.37      0.12\n",
      "  MS4   0.1638447     0.0007     0.001     85.00    110.58      0.59\n",
      "  MK4   0.1640729     0.0006     0.001    261.58    143.21      0.31\n",
      "  S4    0.1666667     0.0005     0.001     29.36    117.55      0.18\n",
      "  SK4   0.1668948     0.0005     0.001    266.58    169.65      0.22\n",
      "  2MK5  0.2028035     0.0007     0.001    253.08     87.11      0.65\n",
      "  2SK5  0.2084474     0.0002     0.001    292.58    197.78      0.11\n",
      "  2MN6  0.2400221     0.0002     0.001    306.29    142.34      0.12\n",
      "  M6    0.2415342     0.0002     0.001    350.10    119.64     0.052\n",
      "  2MS6  0.2443561     0.0000     0.001    114.19    278.59    0.0025\n",
      "  2MK6  0.2445843     0.0004     0.001    229.46     75.02      0.16\n",
      "  2SM6  0.2471781     0.0001     0.001     97.37    215.77     0.027\n",
      "  MSK6  0.2474062     0.0006     0.001    178.47     55.47      0.26\n",
      "  3MK7  0.2833149     0.0006     0.001    196.16     93.97      0.62\n",
      "  M8    0.3220456     0.0002     0.000    281.18    151.34      0.17\n"
     ]
    },
    {
     "name": "stderr",
     "output_type": "stream",
     "text": [
      "C:\\Users\\sergi\\Anaconda3\\lib\\site-packages\\ttide-0.3_exp-py3.7.egg\\ttide\\t_utils.py:447: FutureWarning: `real` is deprecated and will be removed in a future version. To eliminate this warning for a Series `ser`, use `np.real(ser.to_numpy())` or `ser.to_numpy().real`.\n",
      "  x = np.var(out['xingd'].real, ddof=1)\n",
      "C:\\Users\\sergi\\Anaconda3\\lib\\site-packages\\ttide-0.3_exp-py3.7.egg\\ttide\\t_utils.py:449: FutureWarning: `real` is deprecated and will be removed in a future version. To eliminate this warning for a Series `ser`, use `np.real(ser.to_numpy())` or `ser.to_numpy().real`.\n",
      "  xr = np.var(out['xresgd'].real, ddof=1)\n"
     ]
    }
   ],
   "source": [
    "out = ttide.t_tide(serie, dt, stime, lat)"
   ]
  },
  {
   "cell_type": "code",
   "execution_count": 11,
   "metadata": {
    "scrolled": true
   },
   "outputs": [
    {
     "data": {
      "text/plain": [
       "dict_keys(['nobs', 'ngood', 'dt', 'xin', 'xout', 'xres', 'xingd', 'xoutgd', 'xresgd', 'isComplex', 'ray', 'nodcor', 'z0', 'dz0', 'fu', 'nameu', 'tidecon', 'snr', 'synth', 'lat', 'ltype', 'stime'])"
      ]
     },
     "execution_count": 11,
     "metadata": {},
     "output_type": "execute_result"
    }
   ],
   "source": [
    "out.keys()"
   ]
  },
  {
   "cell_type": "code",
   "execution_count": 22,
   "metadata": {
    "scrolled": true
   },
   "outputs": [
    {
     "data": {
      "text/plain": [
       "array([736329.00060185, 736329.00130787, 736329.00199074, ...,\n",
       "       737051.24325231, 737051.24394676, 737051.2446412 ])"
      ]
     },
     "execution_count": 22,
     "metadata": {},
     "output_type": "execute_result"
    }
   ],
   "source": [
    "from datetime import datetime\n",
    "from matplotlib.dates import date2num\n",
    "\n",
    "#getting te timestamp\n",
    "dates = date2num(r.index.to_pydatetime())\n",
    "#dates = np.array(p.index.to_pydatetime(), dtype=numpy.datetime64)\n",
    "dates"
   ]
  },
  {
   "cell_type": "code",
   "execution_count": 23,
   "metadata": {
    "scrolled": false
   },
   "outputs": [],
   "source": [
    "t_tides_p = ttide.t_predic(dates, out.get(\"nameu\"), out.get(\"fu\"), out.get(\"tidecon\"), lat)"
   ]
  },
  {
   "cell_type": "code",
   "execution_count": 24,
   "metadata": {},
   "outputs": [
    {
     "data": {
      "image/png": "[encoded data removed]",
      "text/plain": [
       "<Figure size 432x288 with 1 Axes>"
      ]
     },
     "metadata": {
      "needs_background": "light"
     },
     "output_type": "display_data"
    }
   ],
   "source": [
    "plt.plot(p.values[:100], marker='.', label=\"true\")\n",
    "#plt.plot(tide[\"h\"]+numpy.mean(p.values), 'r', label=\"prediction\")\n",
    "plt.plot(t_tides_p[:100] + np.mean(p.values), 'g', label=\"prediction2\")\n",
    "plt.ylabel('Sea lvl')\n",
    "plt.xlabel('Time Step')\n",
    "plt.legend()\n",
    "plt.show();"
   ]
  },
  {
   "cell_type": "markdown",
   "metadata": {},
   "source": [
    "\n",
    "\n",
    "\n",
    "# UTIDE  "
   ]
  },
  {
   "cell_type": "code",
   "execution_count": 17,
   "metadata": {},
   "outputs": [
    {
     "name": "stdout",
     "output_type": "stream",
     "text": [
      "0.2.5\n"
     ]
    }
   ],
   "source": [
    "import utide\n",
    "import matplotlib.dates as mdates\n",
    "print(utide.__version__)"
   ]
  },
  {
   "cell_type": "code",
   "execution_count": 31,
   "metadata": {},
   "outputs": [
    {
     "name": "stdout",
     "output_type": "stream",
     "text": [
      "solve: matrix prep ... solution ... diagnostics ... done.\n"
     ]
    }
   ],
   "source": [
    "time = mdates.date2num(p.index.to_pydatetime())\n",
    "\n",
    "coef = utide.solve(time, serie, lat=lat)"
   ]
  },
  {
   "cell_type": "code",
   "execution_count": 32,
   "metadata": {},
   "outputs": [
    {
     "data": {
      "text/plain": [
       "dict_keys(['name', 'aux', 'nR', 'nNR', 'nI', 'weights', 'A', 'g', 'mean', 'slope', 'g_ci', 'A_ci', 'diagn'])"
      ]
     },
     "execution_count": 32,
     "metadata": {},
     "output_type": "execute_result"
    }
   ],
   "source": [
    "coef.keys()"
   ]
  },
  {
   "cell_type": "code",
   "execution_count": 33,
   "metadata": {},
   "outputs": [
    {
     "data": {
      "text/plain": [
       "{'name': array(['M2', 'K1', 'S2', 'O1', 'N2', 'SSA', 'P1', 'K2', 'SA', 'MU2', 'Q1',\n",
       "        'NU2', '2N2', 'L2', 'J1', 'NO1', 'OO1', 'T2', 'MF', 'MM', 'PI1',\n",
       "        'EPS2', 'H1', 'RHO1', 'ETA2', 'MSF', 'MSM', 'SIG1', 'M3', 'LDA2',\n",
       "        'GAM2', 'PHI1', 'CHI1', 'SK3', 'THE1', 'MKS2', '2Q1', 'R2', 'M4',\n",
       "        'MSN2', 'TAU1', 'OQ2', 'BET1', 'SO3', 'PSI1', '2MS6', 'SO1', 'S4',\n",
       "        'MO3', 'H2', 'S1', 'MK3', '2MK5', 'SK4', 'UPS1', '2MK6', '2SK5',\n",
       "        '2MN6', 'MSK6', 'MN4', 'M6', 'SN4', '3MK7', 'MS4', 'ALP1', 'M8',\n",
       "        '2SM6', 'MK4'], dtype=object),\n",
       " 'aux': {'frq': array([0.0805114 , 0.04178075, 0.08333333, 0.03873065, 0.07899925,\n",
       "         0.00022816, 0.04155259, 0.08356149, 0.00011407, 0.07768947,\n",
       "         0.0372185 , 0.07920162, 0.0774871 , 0.08202355, 0.0432929 ,\n",
       "         0.04026859, 0.04483084, 0.08321926, 0.00305009, 0.00151215,\n",
       "         0.04143851, 0.07617732, 0.08039733, 0.03742087, 0.08507364,\n",
       "         0.00282193, 0.00130978, 0.03590872, 0.1207671 , 0.08182118,\n",
       "         0.08030903, 0.04200891, 0.04047097, 0.12511408, 0.04309053,\n",
       "         0.08073956, 0.03570635, 0.08344741, 0.1610228 , 0.08484549,\n",
       "         0.03895881, 0.07597494, 0.04004044, 0.12206399, 0.04189482,\n",
       "         0.24435613, 0.04460268, 0.16666667, 0.11924206, 0.08062547,\n",
       "         0.04166667, 0.12229215, 0.20280355, 0.16689483, 0.04634299,\n",
       "         0.24458429, 0.20844741, 0.24002205, 0.24740623, 0.15951065,\n",
       "         0.2415342 , 0.16233258, 0.28331495, 0.16384473, 0.03439657,\n",
       "         0.3220456 , 0.24717807, 0.16407289]),\n",
       "  'lind': array([ 47,  20,  56,  12,  41,   2,  18,  58,   1,  39,  10,  42,  38,\n",
       "          53,  24,  15,  27,  55,   6,   4,  17,  34,  46,  11,  60,   5,\n",
       "           3,   9,  68,  52,  45,  22,  16,  73,  23,  49,   8,  57,  81,\n",
       "          59,  13,  33,  14,  70,  21, 109,  26,  88,  67,  48,  19,  71,\n",
       "          95,  89,  28, 110,  98, 102, 113,  78, 105,  83, 119,  85,   7,\n",
       "         124, 112,  86]),\n",
       "  'reftime': 736690.1226215278,\n",
       "  'opt': {'twodim': False,\n",
       "   'equi': False,\n",
       "   'conf_int': True,\n",
       "   'cnstit': 'auto',\n",
       "   'notrend': False,\n",
       "   'prefilt': [],\n",
       "   'nodsatlint': 0,\n",
       "   'nodsatnone': 0,\n",
       "   'gwchlint': False,\n",
       "   'gwchnone': False,\n",
       "   'infer': None,\n",
       "   'inferaprx': 0,\n",
       "   'rmin': 1,\n",
       "   'method': 'ols',\n",
       "   'tunrdn': 1,\n",
       "   'linci': True,\n",
       "   'white': False,\n",
       "   'nrlzn': 200,\n",
       "   'lsfrqosmp': 1,\n",
       "   'nodiagn': 0,\n",
       "   'diagnplots': 0,\n",
       "   'diagnminsnr': 2,\n",
       "   'ordercnstit': None,\n",
       "   'runtimedisp': 'yyy',\n",
       "   'nodesatlint': False,\n",
       "   'nodesatnone': False,\n",
       "   'newopts': {'constit': 'auto',\n",
       "    'conf_int': 'linear',\n",
       "    'method': 'ols',\n",
       "    'trend': True,\n",
       "    'phase': 'Greenwich',\n",
       "    'nodal': True,\n",
       "    'infer': None,\n",
       "    'MC_n': 200,\n",
       "    'Rayleigh_min': 1,\n",
       "    'robust_kw': {'weight_function': 'cauchy'},\n",
       "    'white': False,\n",
       "    'verbose': True,\n",
       "    'epoch': 'python'},\n",
       "   'RunTimeDisp': True,\n",
       "   'epoch': 'python'},\n",
       "  'lat': -33.02730833},\n",
       " 'nR': 0,\n",
       " 'nNR': 68,\n",
       " 'nI': 0,\n",
       " 'weights': array([1., 1., 1., ..., 1., 1., 1.]),\n",
       " 'A': array([0.44001921, 0.15791221, 0.1491939 , 0.10285302, 0.09815969,\n",
       "        0.05110599, 0.04974249, 0.04575962, 0.03052053, 0.0216511 ,\n",
       "        0.01911443, 0.01728581, 0.01229301, 0.01220014, 0.0096899 ,\n",
       "        0.0079952 , 0.00634655, 0.00627039, 0.0055507 , 0.00523788,\n",
       "        0.00500204, 0.0049969 , 0.00475432, 0.00474298, 0.0038622 ,\n",
       "        0.00346908, 0.00334609, 0.00294059, 0.00287519, 0.00283622,\n",
       "        0.00253697, 0.00251997, 0.00236318, 0.00224579, 0.0022303 ,\n",
       "        0.00209161, 0.00199982, 0.0018238 , 0.00181049, 0.00177405,\n",
       "        0.00149984, 0.00149483, 0.00109852, 0.00107208, 0.00099291,\n",
       "        0.0009877 , 0.00098434, 0.00096327, 0.00094538, 0.00090789,\n",
       "        0.0008926 , 0.00071709, 0.00069138, 0.00069084, 0.00056075,\n",
       "        0.00051613, 0.000505  , 0.00048066, 0.00041864, 0.0003898 ,\n",
       "        0.00035319, 0.00032419, 0.00024516, 0.00023084, 0.00021922,\n",
       "        0.0001884 , 0.00014448, 0.00011821]),\n",
       " 'g': array([ 61.35234844,  41.04525184,  83.77026687, 355.4045535 ,\n",
       "         32.4277704 , 216.01771031,  35.26968209,  75.85600214,\n",
       "        239.3685664 ,   9.48078152, 333.72529369,  36.13055045,\n",
       "          1.7919941 ,  49.71172011,  77.79953448,   4.10436385,\n",
       "        118.2904817 ,  77.1964726 , 199.59407965, 324.89076638,\n",
       "         31.11960642, 337.04847067, 346.65633063, 324.86603925,\n",
       "        103.62981158,  35.38921564, 324.37192445, 336.90089882,\n",
       "        268.14710491,  29.16993915,  34.44910741,  48.07658276,\n",
       "         20.14502729, 202.00855398,  86.11308437,  32.33993052,\n",
       "        288.3797059 ,  98.54241693,   5.72000902, 281.13665479,\n",
       "         59.02325941, 350.41096162, 349.44386684,  89.47625358,\n",
       "         30.68491612, 179.22991365, 187.1572494 , 252.99664053,\n",
       "        283.17191181, 258.24966866,  25.33689477,  89.57743313,\n",
       "        125.39848478, 182.48851527, 212.67685893,  96.467055  ,\n",
       "        233.15940963,  95.91442934, 195.11658782, 301.79349107,\n",
       "        115.21754306, 235.64461082, 354.63157694, 197.72859498,\n",
       "        295.41805887, 125.16236566, 274.79401316,  65.18796776]),\n",
       " 'mean': 0.03284710696710755,\n",
       " 'slope': 0.00015955449023974513,\n",
       " 'g_ci': array([  0.08102664,   0.23524154,   0.23904658,   0.36125031,\n",
       "          0.36320144,  10.44306921,   0.74686846,   0.77894629,\n",
       "         17.15928199,   1.64693223,   1.94391979,   2.06275166,\n",
       "          2.89947168,   2.92246206,   3.8336144 ,   4.64527838,\n",
       "          5.85180436,   5.68844969,  96.03026771, 101.66593818,\n",
       "          7.4283384 ,   7.13788261,   7.49686079,   7.83184252,\n",
       "          9.23414529, 153.62293883, 159.42952039,  12.63294803,\n",
       "          9.18898867,  12.5698658 ,  14.05428722,  14.74196866,\n",
       "         15.72059931,  11.76392846,  16.66755102,  17.04563464,\n",
       "         18.57076136,  19.55378451,  13.55870608,  20.09805639,\n",
       "         24.76355277,  23.84533881,  33.80932315,  24.63926068,\n",
       "         37.42658004,  22.23374768,  37.73284714,  25.48273047,\n",
       "         27.94840022,  39.27233566,  41.62118466,  36.84096162,\n",
       "         32.80784   ,  35.52726183,  66.25428147,  42.54846602,\n",
       "         44.91601866,  45.69785108,  52.4573609 ,  62.95768733,\n",
       "         62.18375997,  75.69899808,  82.5582444 , 106.32234956,\n",
       "        169.4505901 ,  86.96971627, 152.0244376 , 207.60784449]),\n",
       " 'A_ci': array([0.00062227, 0.00064837, 0.00062208, 0.00064823, 0.0006223 ,\n",
       "        0.00929248, 0.00064831, 0.00062243, 0.00946409, 0.00062219,\n",
       "        0.00064821, 0.00062222, 0.00062245, 0.00062225, 0.00064838,\n",
       "        0.00064851, 0.00064853, 0.000622  , 0.00930417, 0.00931325,\n",
       "        0.00064821, 0.00062203, 0.00062246, 0.0006484 , 0.00062208,\n",
       "        0.00930599, 0.00929665, 0.00064836, 0.00046113, 0.00062232,\n",
       "        0.00062224, 0.00064834, 0.00064832, 0.00046115, 0.00064792,\n",
       "        0.00062228, 0.00064854, 0.00062212, 0.00042821, 0.00062225,\n",
       "        0.00064848, 0.00062242, 0.0006485 , 0.00046122, 0.00064813,\n",
       "        0.00038332, 0.00064847, 0.00042823, 0.0004611 , 0.00062225,\n",
       "        0.00064831, 0.00046117, 0.00039586, 0.00042828, 0.0006483 ,\n",
       "        0.00038332, 0.00039587, 0.00038323, 0.00038331, 0.00042833,\n",
       "        0.00038328, 0.00042834, 0.00035311, 0.00042828, 0.00064837,\n",
       "        0.00028595, 0.00038325, 0.00042834]),\n",
       " 'diagn': {'name': array(['M2', 'K1', 'S2', 'O1', 'N2', 'SSA', 'P1', 'K2', 'SA', 'MU2', 'Q1',\n",
       "         'NU2', '2N2', 'L2', 'J1', 'NO1', 'OO1', 'T2', 'MF', 'MM', 'PI1',\n",
       "         'EPS2', 'H1', 'RHO1', 'ETA2', 'MSF', 'MSM', 'SIG1', 'M3', 'LDA2',\n",
       "         'GAM2', 'PHI1', 'CHI1', 'SK3', 'THE1', 'MKS2', '2Q1', 'R2', 'M4',\n",
       "         'MSN2', 'TAU1', 'OQ2', 'BET1', 'SO3', 'PSI1', '2MS6', 'SO1', 'S4',\n",
       "         'MO3', 'H2', 'S1', 'MK3', '2MK5', 'SK4', 'UPS1', '2MK6', '2SK5',\n",
       "         '2MN6', 'MSK6', 'MN4', 'M6', 'SN4', '3MK7', 'MS4', 'ALP1', 'M8',\n",
       "         '2SM6', 'MK4'], dtype=object),\n",
       "  'PE': array([71.42230743,  9.19860655,  8.21093693,  3.90233652,  3.55432324,\n",
       "          0.96346129,  0.91273684,  0.77242328,  0.34361714,  0.17292213,\n",
       "          0.13477616,  0.11022241,  0.05574519,  0.05490607,  0.03463608,\n",
       "          0.0235803 ,  0.0148582 ,  0.01450372,  0.01136542,  0.01012049,\n",
       "          0.00922965,  0.0092107 ,  0.00833812,  0.00829838,  0.00550251,\n",
       "          0.00443934,  0.00413014,  0.00318976,  0.00304947,  0.00296735,\n",
       "          0.00237422,  0.00234252,  0.00206009,  0.0018605 ,  0.00183492,\n",
       "          0.00161381,  0.00147527,  0.001227  ,  0.00120916,  0.00116097,\n",
       "          0.00082982,  0.00082428,  0.00044515,  0.00042398,  0.00036367,\n",
       "          0.00035986,  0.00035742,  0.00034228,  0.00032969,  0.00030406,\n",
       "          0.0002939 ,  0.00018969,  0.00017633,  0.00017606,  0.00011599,\n",
       "          0.00009827,  0.00009407,  0.00008523,  0.00006465,  0.00005605,\n",
       "          0.00004602,  0.00003877,  0.00002217,  0.00001966,  0.00001773,\n",
       "          0.00001309,  0.0000077 ,  0.00000515]),\n",
       "  'SNR': array([1920847.17718543,  227872.70070254,  220963.24746463,\n",
       "           96713.29012176,   95582.49549395,     116.19628675,\n",
       "           22615.15628937,   20763.24547382,      39.95198555,\n",
       "            4651.81087354,    3340.435802  ,    2964.85262759,\n",
       "            1498.38014835,    1476.752958  ,     858.0143709 ,\n",
       "             583.905064  ,     367.90230242,     390.40613851,\n",
       "               1.3672635 ,       1.21512513,     228.75665827,\n",
       "             247.90958265,     224.11160034,     205.55804306,\n",
       "             148.07582606,       0.53384451,       0.49766135,\n",
       "              79.02170885,     149.34482718,      79.79379183,\n",
       "              63.86013903,      58.03587938,      51.04213753,\n",
       "              91.11115007,      45.51953939,      43.40128165,\n",
       "              36.52791486,      33.01541525,      68.67432332,\n",
       "              31.22621531,      20.55001879,      22.15791566,\n",
       "              11.02299998,      20.75675762,       9.01577847,\n",
       "              25.50576451,       8.85146812,      19.43815298,\n",
       "              16.14828918,       8.17807432,       7.2820217 ,\n",
       "               9.28840583,      11.71819142,       9.99567176,\n",
       "               2.87409204,       6.96473403,       6.25161109,\n",
       "               6.04319571,       4.58253332,       3.18146385,\n",
       "               3.26208431,       2.20054515,       1.85180663,\n",
       "               1.11607289,       0.43917283,       1.66749085,\n",
       "               0.54593175,       0.2925542 ])}}"
      ]
     },
     "execution_count": 33,
     "metadata": {},
     "output_type": "execute_result"
    }
   ],
   "source": [
    "coef"
   ]
  },
  {
   "cell_type": "code",
   "execution_count": 34,
   "metadata": {},
   "outputs": [
    {
     "name": "stdout",
     "output_type": "stream",
     "text": [
      "prep/calcs ... done.\n"
     ]
    }
   ],
   "source": [
    "ptime = mdates.date2num(p.index.to_pydatetime())\n",
    "tide = utide.reconstruct(time, coef)"
   ]
  },
  {
   "cell_type": "code",
   "execution_count": 35,
   "metadata": {
    "scrolled": false
   },
   "outputs": [
    {
     "data": {
      "text/plain": [
       "dict_keys(['t_in', 'epoch', 'constit', 'min_SNR', 'min_PE', 't_mpl', 'h'])"
      ]
     },
     "execution_count": 35,
     "metadata": {},
     "output_type": "execute_result"
    }
   ],
   "source": [
    "tide.keys()"
   ]
  },
  {
   "cell_type": "code",
   "execution_count": 36,
   "metadata": {},
   "outputs": [
    {
     "data": {
      "image/png": "[encoded data removed]",
      "text/plain": [
       "<Figure size 432x288 with 1 Axes>"
      ]
     },
     "metadata": {
      "needs_background": "light"
     },
     "output_type": "display_data"
    }
   ],
   "source": [
    "plt.plot(r.values[:100], marker='.', label=\"true\")\n",
    "#plt.plot(tide[\"h\"]+numpy.mean(p.values), 'r', label=\"prediction\")\n",
    "plt.plot(tide[\"h\"][:100] +np.mean(r.values), 'g', label=\"prediction2\")\n",
    "plt.ylabel('Sea lvl')\n",
    "plt.xlabel('Time Step')\n",
    "plt.legend()\n",
    "plt.show();"
   ]
  }
 ],
 "metadata": {
  "kernelspec": {
   "display_name": "Python 3",
   "language": "python",
   "name": "python3"
  },
  "language_info": {
   "codemirror_mode": {
    "name": "ipython",
    "version": 3
   },
   "file_extension": ".py",
   "mimetype": "text/x-python",
   "name": "python",
   "nbconvert_exporter": "python",
   "pygments_lexer": "ipython3",
   "version": "3.7.4"
  }
 },
 "nbformat": 4,
 "nbformat_minor": 2
}
