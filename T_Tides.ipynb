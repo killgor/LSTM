{
 "cells": [
  {
   "cell_type": "code",
   "execution_count": 1,
   "metadata": {},
   "outputs": [],
   "source": [
    "import pandas as pd\n",
    "import matplotlib\n",
    "import numpy as np\n",
    "from matplotlib import pyplot as plt"
   ]
  },
  {
   "cell_type": "code",
   "execution_count": 2,
   "metadata": {},
   "outputs": [
    {
     "name": "stdout",
     "output_type": "stream",
     "text": [
      "<class 'pandas.core.frame.DataFrame'>\n",
      "DatetimeIndex: 1036988 entries, 2016-12-31 00:00:52 to 2018-12-30 23:59:19\n",
      "Data columns (total 1 columns):\n",
      "prs(m)    1036833 non-null float64\n",
      "dtypes: float64(1)\n",
      "memory usage: 15.8 MB\n"
     ]
    }
   ],
   "source": [
    "#load dataset, Time(UTC),prs(m),rad(m)\n",
    "df = pd.read_csv('data2y.csv',sep=',', header=0, index_col=0, squeeze=True, parse_dates=True)\n",
    "#non-null object to float64\n",
    "df['prs(m)'] = pd.to_numeric(df['prs(m)'], errors='coerce')\n",
    "#prs(m) looks more stable\n",
    "df.drop(df.columns[[1]], axis=1, inplace=True)\n",
    "df.info()"
   ]
  },
  {
   "cell_type": "code",
   "execution_count": 3,
   "metadata": {
    "scrolled": true
   },
   "outputs": [],
   "source": [
    "df = df.interpolate()"
   ]
  },
  {
   "cell_type": "code",
   "execution_count": 4,
   "metadata": {},
   "outputs": [],
   "source": [
    "# one week for prediction work\n",
    "unknown = 60*24*7\n",
    "r = df[:-unknown]\n",
    "p = df[-unknown:]"
   ]
  },
  {
   "cell_type": "code",
   "execution_count": 5,
   "metadata": {},
   "outputs": [
    {
     "name": "stdout",
     "output_type": "stream",
     "text": [
      "<class 'pandas.core.frame.DataFrame'>\n",
      "DatetimeIndex: 1026908 entries, 2016-12-31 00:00:52 to 2018-12-23 05:52:17\n",
      "Data columns (total 1 columns):\n",
      "prs(m)    1026908 non-null float64\n",
      "dtypes: float64(1)\n",
      "memory usage: 15.7 MB\n"
     ]
    }
   ],
   "source": [
    "r.info()"
   ]
  },
  {
   "cell_type": "code",
   "execution_count": 6,
   "metadata": {},
   "outputs": [
    {
     "name": "stdout",
     "output_type": "stream",
     "text": [
      "<class 'pandas.core.frame.DataFrame'>\n",
      "DatetimeIndex: 10080 entries, 2018-12-23 05:53:17 to 2018-12-30 23:59:19\n",
      "Data columns (total 1 columns):\n",
      "prs(m)    10080 non-null float64\n",
      "dtypes: float64(1)\n",
      "memory usage: 157.5 KB\n"
     ]
    }
   ],
   "source": [
    "p.info()"
   ]
  },
  {
   "cell_type": "code",
   "execution_count": 7,
   "metadata": {},
   "outputs": [],
   "source": [
    "serie= r['prs(m)']\n",
    "serie = serie - np.mean(r.values)\n",
    "\n",
    "dt = 1/60\n",
    "stime = r.index[0]\n",
    "lat = -33.02730833"
   ]
  },
  {
   "cell_type": "markdown",
   "metadata": {},
   "source": [
    "\n",
    "# TTIDE"
   ]
  },
  {
   "cell_type": "code",
   "execution_count": 8,
   "metadata": {},
   "outputs": [
    {
     "name": "stdout",
     "output_type": "stream",
     "text": [
      "0.3lfk\n"
     ]
    }
   ],
   "source": [
    "import ttide\n",
    "print(ttide.__version__)"
   ]
  },
  {
   "cell_type": "code",
   "execution_count": 9,
   "metadata": {},
   "outputs": [
    {
     "name": "stderr",
     "output_type": "stream",
     "text": [
      "/home/killgor/anaconda3/lib/python3.7/site-packages/ttide-0.3_exp-py3.7.egg/ttide/t_tide.py:345: FutureWarning: `rcond` parameter will change to the default of machine precision times ``max(M, N)`` where M and N are the input matrix dimensions.\n",
      "To use the future default and silence this warning we advise to pass `rcond=None`, to keep using the old, explicitly pass `rcond=-1`.\n",
      "  coef = np.linalg.lstsq(lhs, rhs)[0].T\n",
      "/home/killgor/anaconda3/lib/python3.7/site-packages/numpy/lib/type_check.py:161: FutureWarning: `real` is deprecated and will be removed in a future version. To eliminate this warning for a Series `ser`, use `np.real(ser.to_numpy())` or `ser.to_numpy().real`.\n",
      "  return val.real\n",
      "/home/killgor/anaconda3/lib/python3.7/site-packages/numpy/lib/type_check.py:204: FutureWarning: `imag` is deprecated and will be removed in a future version. To eliminate this warning for a Series `ser`, use `np.imag(ser.to_numpy())` or `ser.to_numpy().imag`.\n",
      "  return val.imag\n"
     ]
    },
    {
     "name": "stdout",
     "output_type": "stream",
     "text": [
      "-----------------------------------\n",
      "nobs = 1026908 \n",
      "ngood = 1026907 \n",
      "record length (days) = 713.13\n",
      "start time: 2016-12-31 00:00:52\n",
      "rayleigh criterion = 1.0\n",
      "\n",
      "Greenwich phase computed with nodal\n",
      "                   corrections applied to amplitude\n",
      "                   and phase relative to center time\n",
      "\n",
      "x0= 0.000986  xtrend= 0\n",
      "var(data)= 0.14    var(prediction)= 0.02    var(residual)= 0.12\n",
      "var(prediction)/var(data) (%) = 16.6\n",
      "\n",
      "        tidal amplitude and phase with 95 % CI estimates\n",
      " tide      freq        amp      amp_err   pha      pha_err    snr\n",
      "* SA    0.0001141     0.0461     0.018    246.15     25.31       6.8\n",
      "* SSA   0.0002282     0.0505     0.024    199.34     18.47       4.4\n",
      "  MSM   0.0013098     0.0035     0.014    344.10    178.25     0.061\n",
      "  MM    0.0015122     0.0104     0.016    235.42    115.04      0.43\n",
      "  MSF   0.0028219     0.0018     0.012    306.89    188.11     0.021\n",
      "  MF    0.0030501     0.0029     0.013    128.50    190.03     0.047\n",
      "  ALP1  0.0343966     0.0009     0.019    280.88    239.63    0.0022\n",
      "  2Q1   0.0357064     0.0016     0.018    331.34    249.45    0.0087\n",
      "  SIG1  0.0359087     0.0020     0.017     60.08    223.86     0.014\n",
      "  Q1    0.0372185     0.0027     0.017     87.54    212.84     0.025\n",
      "  RHO1  0.0374209     0.0050     0.016    238.37    167.72     0.095\n",
      "  O1    0.0387307     0.0017     0.016    127.30    203.64     0.011\n",
      "  TAU1  0.0389588     0.0214     0.021    195.46     55.57       1.1\n",
      "  BET1  0.0400404     0.0117     0.021    297.17    125.71      0.31\n",
      "  NO1   0.0402686     0.0094     0.026    232.20    161.02      0.13\n",
      "  CHI1  0.0404710     0.0025     0.019    174.31    208.58     0.017\n",
      "  PI1   0.0414385     0.0051     0.018     74.14    186.00     0.078\n",
      "  P1    0.0415526     0.0058     0.014     18.99    182.85      0.17\n",
      "  S1    0.0416667     0.0365     0.029    229.51     45.22       1.5\n",
      "  K1    0.0417807     0.0267     0.023     91.25     48.65       1.3\n",
      "  PSI1  0.0418948     0.0098     0.016    121.22    115.85      0.36\n",
      "  PHI1  0.0420089     0.0199     0.020     26.57     63.08         1\n",
      "  THE1  0.0430905     0.0155     0.022    262.76     95.27      0.48\n",
      "  J1    0.0432929     0.0061     0.016    135.17    181.32      0.14\n",
      "  SO1   0.0446027     0.0036     0.015    126.17    174.68     0.061\n",
      "  OO1   0.0448308     0.0081     0.031     18.11    202.45      0.07\n",
      "  UPS1  0.0463430     0.0043     0.024    282.43    248.90     0.033\n",
      "  OQ2   0.0759749     0.0058     0.042    334.29    242.20      0.02\n",
      "  EPS2  0.0761773     0.0067     0.041    197.84    210.28     0.028\n",
      "  2N2   0.0774871     0.0088     0.038    196.16    220.66     0.054\n",
      "  MU2   0.0776895     0.0040     0.036     88.28    263.02     0.013\n",
      "  N2    0.0789992     0.0088     0.033     41.72    208.26     0.073\n",
      "  NU2   0.0792016     0.0157     0.038    182.81    162.13      0.17\n",
      "* GAM2  0.0803090     0.1294     0.052    166.58     22.98       6.3\n",
      "* H1    0.0803973     0.1014     0.051    138.01     25.77         4\n",
      "  M2    0.0805114     0.0365     0.046    323.57     77.07      0.63\n",
      "* H2    0.0806255     0.0846     0.051      7.16     33.02       2.8\n",
      "* MKS2  0.0807396     0.1002     0.059     70.43     34.10       2.8\n",
      "* LDA2  0.0818212     0.0691     0.048    200.07     36.72       2.1\n",
      "  L2    0.0820236     0.0087     0.028    240.37    192.82       0.1\n",
      "  T2    0.0832193     0.0058     0.036    110.18    189.37     0.027\n",
      "  S2    0.0833333     0.0082     0.041    127.57    198.19     0.041\n",
      "  R2    0.0834474     0.0160     0.034    204.37    121.45      0.22\n",
      "  K2    0.0835615     0.0217     0.051     16.41    158.88      0.18\n",
      "  MSN2  0.0848455     0.0101     0.035     33.27    205.32     0.084\n",
      "  ETA2  0.0850736     0.0387     0.070    299.07    118.75       0.3\n",
      "  MO3   0.1192421     0.0009     0.002    306.10    137.68      0.27\n",
      "  M3    0.1207671     0.0003     0.001    232.24    230.18     0.053\n",
      "  SO3   0.1220640     0.0005     0.002    230.18    201.45       0.1\n",
      "  MK3   0.1222921     0.0002     0.001    323.12    229.24     0.022\n",
      "  SK3   0.1251141     0.0004     0.002    109.41    193.74     0.066\n",
      "  MN4   0.1595106     0.0004     0.001     82.75    160.78      0.15\n",
      "  M4    0.1610228     0.0004     0.001    347.14    170.46      0.13\n",
      "  SN4   0.1623326     0.0003     0.001    136.42    156.10      0.11\n",
      "  MS4   0.1638447     0.0007     0.001     85.00    104.75      0.37\n",
      "  MK4   0.1640729     0.0006     0.001    261.58    143.92      0.29\n",
      "  S4    0.1666667     0.0005     0.001     29.36    118.11      0.23\n",
      "  SK4   0.1668948     0.0005     0.001    266.58    162.33      0.19\n",
      "  2MK5  0.2028035     0.0007     0.001    253.08     86.25      0.57\n",
      "  2SK5  0.2084474     0.0002     0.001    292.58    186.83     0.085\n",
      "  2MN6  0.2400221     0.0002     0.001    306.29    155.13      0.15\n",
      "  M6    0.2415342     0.0002     0.001    350.10    177.43     0.084\n",
      "  2MS6  0.2443561     0.0000     0.001    114.19    229.18    0.0039\n",
      "  2MK6  0.2445843     0.0004     0.001    229.46    131.76       0.2\n",
      "  2SM6  0.2471781     0.0001     0.001     97.37    190.40     0.049\n",
      "  MSK6  0.2474062     0.0006     0.001    178.47    112.41      0.37\n",
      "  3MK7  0.2833149     0.0006     0.001    196.16     82.93      0.62\n",
      "  M8    0.3220456     0.0002     0.000    281.18    144.84       0.2\n"
     ]
    },
    {
     "name": "stderr",
     "output_type": "stream",
     "text": [
      "/home/killgor/anaconda3/lib/python3.7/site-packages/ttide-0.3_exp-py3.7.egg/ttide/t_utils.py:447: FutureWarning: `real` is deprecated and will be removed in a future version. To eliminate this warning for a Series `ser`, use `np.real(ser.to_numpy())` or `ser.to_numpy().real`.\n",
      "  x = np.var(out['xingd'].real, ddof=1)\n",
      "/home/killgor/anaconda3/lib/python3.7/site-packages/ttide-0.3_exp-py3.7.egg/ttide/t_utils.py:449: FutureWarning: `real` is deprecated and will be removed in a future version. To eliminate this warning for a Series `ser`, use `np.real(ser.to_numpy())` or `ser.to_numpy().real`.\n",
      "  xr = np.var(out['xresgd'].real, ddof=1)\n"
     ]
    }
   ],
   "source": [
    "out = ttide.t_tide(serie, dt, stime, lat)"
   ]
  },
  {
   "cell_type": "code",
   "execution_count": 10,
   "metadata": {
    "scrolled": true
   },
   "outputs": [
    {
     "data": {
      "text/plain": [
       "dict_keys(['nobs', 'ngood', 'dt', 'xin', 'xout', 'xres', 'xingd', 'xoutgd', 'xresgd', 'isComplex', 'ray', 'nodcor', 'z0', 'dz0', 'fu', 'nameu', 'tidecon', 'snr', 'synth', 'lat', 'ltype', 'stime'])"
      ]
     },
     "execution_count": 10,
     "metadata": {},
     "output_type": "execute_result"
    }
   ],
   "source": [
    "out.keys()"
   ]
  },
  {
   "cell_type": "code",
   "execution_count": 11,
   "metadata": {},
   "outputs": [
    {
     "data": {
      "text/plain": [
       "array([[  0.0461258 ,   0.01773359, 246.15265508,  25.30881828],\n",
       "       [  0.050491  ,   0.02408715, 199.33699387,  18.46828071],\n",
       "       [  0.00345465,   0.0140402 , 344.099372  , 178.24748143],\n",
       "       [  0.0103991 ,   0.01590838, 235.42271389, 115.04375629],\n",
       "       [  0.00178141,   0.01240683, 306.88572351, 188.11247852],\n",
       "       [  0.00288312,   0.01330266, 128.49513187, 190.02895655],\n",
       "       [  0.00090299,   0.01913058, 280.87645027, 239.63198919],\n",
       "       [  0.00164525,   0.01765516, 331.33996245, 249.45008486],\n",
       "       [  0.00198437,   0.01676378,  60.08228919, 223.86398819],\n",
       "       [  0.00266004,   0.01691539,  87.54311466, 212.84447895],\n",
       "       [  0.00499946,   0.01623753, 238.37004559, 167.71654459],\n",
       "       [  0.00167155,   0.01630137, 127.30368613, 203.644267  ],\n",
       "       [  0.02139525,   0.02072924, 195.45636654,  55.57215565],\n",
       "       [  0.0117109 ,   0.02089501, 297.16924365, 125.71247879],\n",
       "       [  0.00942729,   0.02586168, 232.1955523 , 161.02301756],\n",
       "       [  0.0024806 ,   0.01922809, 174.30981118, 208.58468556],\n",
       "       [  0.00506269,   0.01811062,  74.13822511, 186.00316287],\n",
       "       [  0.00581093,   0.01396394,  18.98679429, 182.84789414],\n",
       "       [  0.03651909,   0.02933891, 229.50827407,  45.22291294],\n",
       "       [  0.02667518,   0.02337299,  91.25437239,  48.64740421],\n",
       "       [  0.00975054,   0.01633074, 121.22486175, 115.85094408],\n",
       "       [  0.01988146,   0.01990261,  26.57280352,  63.08097386],\n",
       "       [  0.01547432,   0.022285  , 262.7585695 ,  95.27282307],\n",
       "       [  0.00611509,   0.01636667, 135.1686455 , 181.31866206],\n",
       "       [  0.00363243,   0.01467845, 126.17387801, 174.68196801],\n",
       "       [  0.00810448,   0.03069818,  18.11230978, 202.44507572],\n",
       "       [  0.00434514,   0.02391745, 282.43024176, 248.90130218],\n",
       "       [  0.00583004,   0.04162684, 334.29140903, 242.20035638],\n",
       "       [  0.00673323,   0.04056214, 197.84451099, 210.27597424],\n",
       "       [  0.00879043,   0.0376627 , 196.16249127, 220.66224532],\n",
       "       [  0.00398369,   0.03550582,  88.28238191, 263.01501797],\n",
       "       [  0.00882858,   0.03265194,  41.71620594, 208.26061193],\n",
       "       [  0.01565949,   0.03794861, 182.81498917, 162.12809845],\n",
       "       [  0.12938976,   0.05170791, 166.57930653,  22.97571275],\n",
       "       [  0.10137212,   0.05099241, 138.00501387,  25.76750878],\n",
       "       [  0.03654883,   0.04605891, 323.56768556,  77.06594842],\n",
       "       [  0.084644  ,   0.0507478 ,   7.16159717,  33.01888124],\n",
       "       [  0.10018245,   0.05943339,  70.43223147,  34.09693657],\n",
       "       [  0.06910348,   0.04752079, 200.06686819,  36.71548648],\n",
       "       [  0.0087387 ,   0.02760867, 240.37347729, 192.82101451],\n",
       "       [  0.00583151,   0.03559026, 110.17954469, 189.36834527],\n",
       "       [  0.00822015,   0.04059661, 127.56642392, 198.19083561],\n",
       "       [  0.01604982,   0.03401939, 204.37280475, 121.44707709],\n",
       "       [  0.0216548 ,   0.05059414,  16.40936223, 158.88112387],\n",
       "       [  0.01011864,   0.03495007,  33.27008123, 205.31608261],\n",
       "       [  0.03865639,   0.07024488, 299.07470549, 118.7464146 ],\n",
       "       [  0.00090729,   0.00174515, 306.09679471, 137.67805831],\n",
       "       [  0.00030835,   0.0013398 , 232.24185131, 230.17529086],\n",
       "       [  0.00049353,   0.00153852, 230.17580382, 201.45437956],\n",
       "       [  0.0002035 ,   0.00136147, 323.11973643, 229.23568473],\n",
       "       [  0.0003983 ,   0.00155545, 109.4144014 , 193.74324822],\n",
       "       [  0.00037549,   0.00098034,  82.75403137, 160.77988638],\n",
       "       [  0.00035801,   0.00098152, 347.13720988, 170.45781851],\n",
       "       [  0.00031196,   0.00092295, 136.41666868, 156.10365919],\n",
       "       [  0.00067243,   0.00110383,  85.00132656, 104.75373741],\n",
       "       [  0.00058925,   0.00110323, 261.57536911, 143.91868829],\n",
       "       [  0.00045278,   0.0009472 ,  29.35942937, 118.11090802],\n",
       "       [  0.00049969,   0.00114   , 266.58164652, 162.33352256],\n",
       "       [  0.00071847,   0.00095522, 253.08234829,  86.25084647],\n",
       "       [  0.00024263,   0.00083403, 292.57629154, 186.82604782],\n",
       "       [  0.00024505,   0.00062864, 306.28900405, 155.1289987 ],\n",
       "       [  0.00017578,   0.00060493, 350.10409483, 177.42854945],\n",
       "       [  0.00003663,   0.00058472, 114.19265769, 229.17970976],\n",
       "       [  0.00037114,   0.00082603, 229.45709223, 131.76178283],\n",
       "       [  0.00013147,   0.00059313,  97.36884693, 190.40202459],\n",
       "       [  0.00059579,   0.00098335, 178.46628248, 112.40618125],\n",
       "       [  0.00055785,   0.00070912, 196.15609266,  82.93090768],\n",
       "       [  0.00020491,   0.00045389, 281.18201601, 144.84196444]])"
      ]
     },
     "execution_count": 11,
     "metadata": {},
     "output_type": "execute_result"
    }
   ],
   "source": [
    "out.get(\"tidecon\")"
   ]
  },
  {
   "cell_type": "markdown",
   "metadata": {},
   "source": [
    "## Data to predict"
   ]
  },
  {
   "cell_type": "code",
   "execution_count": 12,
   "metadata": {},
   "outputs": [
    {
     "data": {
      "text/plain": [
       "array([737051.24533565, 737051.24603009, 737051.24672454, ...,\n",
       "       737058.99813657, 737058.99883102, 737058.99952546])"
      ]
     },
     "execution_count": 12,
     "metadata": {},
     "output_type": "execute_result"
    }
   ],
   "source": [
    "from datetime import datetime\n",
    "from matplotlib.dates import date2num\n",
    "\n",
    "#getting te dates\n",
    "dates = date2num(p.index.to_pydatetime())\n",
    "#dates = np.array(p.index.to_pydatetime(), dtype=numpy.datetime64)\n",
    "dates"
   ]
  },
  {
   "cell_type": "code",
   "execution_count": 13,
   "metadata": {
    "scrolled": false
   },
   "outputs": [],
   "source": [
    "t_tides_p = ttide.t_predic(dates, out.get(\"nameu\"), out.get(\"fu\"), out.get(\"tidecon\"), lat)"
   ]
  },
  {
   "cell_type": "code",
   "execution_count": 14,
   "metadata": {
    "scrolled": false
   },
   "outputs": [
    {
     "data": {
      "image/png": "[encoded data removed]",
      "text/plain": [
       "<Figure size 432x288 with 1 Axes>"
      ]
     },
     "metadata": {
      "needs_background": "light"
     },
     "output_type": "display_data"
    }
   ],
   "source": [
    "plt.plot(p.values[:100], marker='.', label=\"true\")\n",
    "plt.plot(t_tides_p[:100] + np.mean(p.values), 'r', label=\"pred ttides\")\n",
    "plt.ylabel('Sea lvl')\n",
    "plt.xlabel('Time Step')\n",
    "plt.legend()\n",
    "plt.show();"
   ]
  },
  {
   "cell_type": "markdown",
   "metadata": {},
   "source": [
    "\n",
    "\n",
    "\n",
    "# UTIDE  "
   ]
  },
  {
   "cell_type": "code",
   "execution_count": 15,
   "metadata": {},
   "outputs": [
    {
     "ename": "ModuleNotFoundError",
     "evalue": "No module named 'utide'",
     "output_type": "error",
     "traceback": [
      "\u001b[0;31m---------------------------------------------------------------------------\u001b[0m",
      "\u001b[0;31mModuleNotFoundError\u001b[0m                       Traceback (most recent call last)",
      "\u001b[0;32m<ipython-input-15-ea9b980dcf5a>\u001b[0m in \u001b[0;36m<module>\u001b[0;34m\u001b[0m\n\u001b[0;32m----> 1\u001b[0;31m \u001b[0;32mimport\u001b[0m \u001b[0mutide\u001b[0m\u001b[0;34m\u001b[0m\u001b[0;34m\u001b[0m\u001b[0m\n\u001b[0m\u001b[1;32m      2\u001b[0m \u001b[0;32mimport\u001b[0m \u001b[0mmatplotlib\u001b[0m\u001b[0;34m.\u001b[0m\u001b[0mdates\u001b[0m \u001b[0;32mas\u001b[0m \u001b[0mmdates\u001b[0m\u001b[0;34m\u001b[0m\u001b[0;34m\u001b[0m\u001b[0m\n\u001b[1;32m      3\u001b[0m \u001b[0mprint\u001b[0m\u001b[0;34m(\u001b[0m\u001b[0mutide\u001b[0m\u001b[0;34m.\u001b[0m\u001b[0m__version__\u001b[0m\u001b[0;34m)\u001b[0m\u001b[0;34m\u001b[0m\u001b[0;34m\u001b[0m\u001b[0m\n",
      "\u001b[0;31mModuleNotFoundError\u001b[0m: No module named 'utide'"
     ]
    }
   ],
   "source": [
    "import utide\n",
    "import matplotlib.dates as mdates\n",
    "print(utide.__version__)"
   ]
  },
  {
   "cell_type": "code",
   "execution_count": null,
   "metadata": {},
   "outputs": [],
   "source": [
    "time = mdates.date2num(r.index.to_pydatetime())\n",
    "\n",
    "coef = utide.solve(time, serie, lat=lat)\n",
    "#solve: matrix prep ... solution ... diagnostics ... done."
   ]
  },
  {
   "cell_type": "code",
   "execution_count": null,
   "metadata": {},
   "outputs": [],
   "source": [
    "coef.keys()"
   ]
  },
  {
   "cell_type": "code",
   "execution_count": null,
   "metadata": {},
   "outputs": [],
   "source": [
    "coef"
   ]
  },
  {
   "cell_type": "code",
   "execution_count": null,
   "metadata": {},
   "outputs": [],
   "source": [
    "ptime = mdates.date2num(p.index.to_pydatetime())\n",
    "tide = utide.reconstruct(ptime, coef)\n",
    "#prep/calcs ... done."
   ]
  },
  {
   "cell_type": "code",
   "execution_count": null,
   "metadata": {
    "scrolled": false
   },
   "outputs": [],
   "source": [
    "tide.keys()"
   ]
  },
  {
   "cell_type": "code",
   "execution_count": null,
   "metadata": {},
   "outputs": [],
   "source": [
    "plt.plot(r.values[:100], marker='.', label=\"true\")\n",
    "#plt.plot(tide[\"h\"]+numpy.mean(p.values), 'r', label=\"prediction\")\n",
    "plt.plot(tide[\"h\"][:100] +np.mean(r.values), 'g', label=\"prediction2\")\n",
    "plt.ylabel('Sea lvl')\n",
    "plt.xlabel('Time Step')\n",
    "plt.legend()\n",
    "plt.show();"
   ]
  }
 ],
 "metadata": {
  "kernelspec": {
   "display_name": "Python 3",
   "language": "python",
   "name": "python3"
  },
  "language_info": {
   "codemirror_mode": {
    "name": "ipython",
    "version": 3
   },
   "file_extension": ".py",
   "mimetype": "text/x-python",
   "name": "python",
   "nbconvert_exporter": "python",
   "pygments_lexer": "ipython3",
   "version": "3.7.4"
  }
 },
 "nbformat": 4,
 "nbformat_minor": 2
}
