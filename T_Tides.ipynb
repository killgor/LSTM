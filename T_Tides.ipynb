{
 "cells": [
  {
   "cell_type": "code",
   "execution_count": 52,
   "metadata": {},
   "outputs": [],
   "source": [
    "from ttide.t_tide import t_tide\n",
    "import pandas as pd\n",
    "import matplotlib\n",
    "from matplotlib import pyplot as plt"
   ]
  },
  {
   "cell_type": "code",
   "execution_count": 5,
   "metadata": {
    "scrolled": true
   },
   "outputs": [
    {
     "data": {
      "text/html": [
       "<div>\n",
       "<style scoped>\n",
       "    .dataframe tbody tr th:only-of-type {\n",
       "        vertical-align: middle;\n",
       "    }\n",
       "\n",
       "    .dataframe tbody tr th {\n",
       "        vertical-align: top;\n",
       "    }\n",
       "\n",
       "    .dataframe thead th {\n",
       "        text-align: right;\n",
       "    }\n",
       "</style>\n",
       "<table border=\"1\" class=\"dataframe\">\n",
       "  <thead>\n",
       "    <tr style=\"text-align: right;\">\n",
       "      <th></th>\n",
       "      <th>prs(m)</th>\n",
       "    </tr>\n",
       "    <tr>\n",
       "      <th>Time(UTC)</th>\n",
       "      <th></th>\n",
       "    </tr>\n",
       "  </thead>\n",
       "  <tbody>\n",
       "    <tr>\n",
       "      <td>2016-12-31 00:00:52</td>\n",
       "      <td>2.369</td>\n",
       "    </tr>\n",
       "    <tr>\n",
       "      <td>2016-12-31 00:01:53</td>\n",
       "      <td>2.360</td>\n",
       "    </tr>\n",
       "    <tr>\n",
       "      <td>2016-12-31 00:02:52</td>\n",
       "      <td>2.369</td>\n",
       "    </tr>\n",
       "    <tr>\n",
       "      <td>2016-12-31 00:03:53</td>\n",
       "      <td>2.361</td>\n",
       "    </tr>\n",
       "    <tr>\n",
       "      <td>2016-12-31 00:04:53</td>\n",
       "      <td>2.392</td>\n",
       "    </tr>\n",
       "  </tbody>\n",
       "</table>\n",
       "</div>"
      ],
      "text/plain": [
       "                     prs(m)\n",
       "Time(UTC)                  \n",
       "2016-12-31 00:00:52   2.369\n",
       "2016-12-31 00:01:53   2.360\n",
       "2016-12-31 00:02:52   2.369\n",
       "2016-12-31 00:03:53   2.361\n",
       "2016-12-31 00:04:53   2.392"
      ]
     },
     "execution_count": 5,
     "metadata": {},
     "output_type": "execute_result"
    }
   ],
   "source": [
    "#load dataset, Time(UTC),prs(m),rad(m)\n",
    "df2 = pd.read_csv('data2y.csv',sep=',', header=0, index_col=0, squeeze=True, parse_dates=True)\n",
    "#non-null object to float64\n",
    "df2['prs(m)'] = pd.to_numeric(df2['prs(m)'], errors='coerce')\n",
    "#prs(m) looks more stable\n",
    "df2.drop(df2.columns[[1]], axis=1, inplace=True)\n",
    "\n",
    "s = df2.interpolate()\n",
    "s.head()"
   ]
  },
  {
   "cell_type": "code",
   "execution_count": 14,
   "metadata": {},
   "outputs": [
    {
     "data": {
      "text/plain": [
       "Timestamp('2016-12-31 00:00:52')"
      ]
     },
     "execution_count": 14,
     "metadata": {},
     "output_type": "execute_result"
    }
   ],
   "source": [
    "df2.index[0]"
   ]
  },
  {
   "cell_type": "code",
   "execution_count": 105,
   "metadata": {
    "scrolled": true
   },
   "outputs": [
    {
     "name": "stderr",
     "output_type": "stream",
     "text": [
      "C:\\Users\\sergi\\Anaconda3\\lib\\site-packages\\ttide-0.3_exp-py3.7.egg\\ttide\\t_tide.py:345: FutureWarning: `rcond` parameter will change to the default of machine precision times ``max(M, N)`` where M and N are the input matrix dimensions.\n",
      "To use the future default and silence this warning we advise to pass `rcond=None`, to keep using the old, explicitly pass `rcond=-1`.\n",
      "  coef = np.linalg.lstsq(lhs, rhs)[0].T\n",
      "C:\\Users\\sergi\\Anaconda3\\lib\\site-packages\\numpy\\lib\\type_check.py:161: FutureWarning: `real` is deprecated and will be removed in a future version. To eliminate this warning for a Series `ser`, use `np.real(ser.to_numpy())` or `ser.to_numpy().real`.\n",
      "  return val.real\n",
      "C:\\Users\\sergi\\Anaconda3\\lib\\site-packages\\numpy\\lib\\type_check.py:204: FutureWarning: `imag` is deprecated and will be removed in a future version. To eliminate this warning for a Series `ser`, use `np.imag(ser.to_numpy())` or `ser.to_numpy().imag`.\n",
      "  return val.imag\n"
     ]
    },
    {
     "name": "stdout",
     "output_type": "stream",
     "text": [
      "-----------------------------------\n",
      "nobs = 1036988 \n",
      "ngood = 1036987 \n",
      "record length (days) = 720.13\n",
      "rayleigh criterion = 1.0\n",
      "\n",
      "Phases at central time\n",
      "x0= 2.31  xtrend= 0\n",
      "var(data)= 0.14    var(prediction)= 0.02    var(residual)= 0.13\n",
      "var(prediction)/var(data) (%) = 13.5\n",
      "\n",
      "        tidal amplitude and phase with 95 % CI estimates\n",
      " tide      freq        amp      amp_err   pha      pha_err    snr\n",
      "* SA    0.0001141     0.0463     0.019    252.60     22.87       6.2\n",
      "* SSA   0.0002282     0.0490     0.016     10.72     26.00       9.7\n",
      "  MSM   0.0013098     0.0020     0.013     72.27    242.08     0.025\n",
      "  MM    0.0015122     0.0091     0.015    320.36    130.43      0.38\n",
      "  MSF   0.0028219     0.0019     0.012    151.32    258.94     0.025\n",
      "  MF    0.0030501     0.0030     0.013    129.34    216.26     0.051\n",
      "  ALP1  0.0343966     0.0007     0.016    102.01    265.45    0.0017\n",
      "  2Q1   0.0357064     0.0012     0.016    339.14    220.77    0.0055\n",
      "  SIG1  0.0359087     0.0020     0.014     34.07    204.50      0.02\n",
      "  Q1    0.0372185     0.0017     0.016    161.51    249.58     0.011\n",
      "  RHO1  0.0374209     0.0051     0.017    303.75    170.29     0.091\n",
      "  O1    0.0387307     0.0026     0.016    288.24    201.80     0.026\n",
      "  TAU1  0.0389588     0.0250     0.022    345.67     49.38       1.3\n",
      "  BET1  0.0400404     0.0113     0.021      0.01    105.06       0.3\n",
      "  NO1   0.0402686     0.0050     0.017    127.50    192.03     0.089\n",
      "  CHI1  0.0404710     0.0010     0.015     94.96    284.35    0.0041\n",
      "  PI1   0.0414385     0.0054     0.016     30.20    179.11      0.11\n",
      "  P1    0.0415526     0.0070     0.015    350.07    166.25       0.2\n",
      "  S1    0.0416667     0.0257     0.023    181.81     52.95       1.3\n",
      "  K1    0.0417807     0.0234     0.021     67.52     54.31       1.2\n",
      "  PSI1  0.0418948     0.0081     0.018    102.82    142.10      0.21\n",
      "  PHI1  0.0420089     0.0195     0.022    171.84     58.46      0.76\n",
      "  THE1  0.0430905     0.0157     0.020    332.89     73.16      0.59\n",
      "  J1    0.0432929     0.0066     0.016    213.46    159.74      0.17\n",
      "  SO1   0.0446027     0.0058     0.015    287.36    196.80      0.15\n",
      "  OO1   0.0448308     0.0048     0.016    342.79    169.51     0.092\n",
      "  UPS1  0.0463430     0.0030     0.016    313.99    222.89     0.034\n",
      "  OQ2   0.0759749     0.0045     0.036    195.37    229.01     0.016\n",
      "  EPS2  0.0761773     0.0072     0.038     67.12    203.09     0.036\n",
      "  2N2   0.0774871     0.0071     0.035    158.76    214.62      0.04\n",
      "  MU2   0.0776895     0.0030     0.031     37.36    245.71    0.0098\n",
      "  N2    0.0789992     0.0070     0.040     85.13    197.32     0.031\n",
      "  NU2   0.0792016     0.0186     0.039    236.06    143.98      0.23\n",
      "* GAM2  0.0803090     0.1272     0.057    117.46     21.08         5\n",
      "* H1    0.0803973     0.1034     0.049     89.81     29.54       4.4\n",
      "  M2    0.0805114     0.0336     0.046    105.37     90.43      0.52\n",
      "* H2    0.0806255     0.0844     0.047    159.09     35.95       3.3\n",
      "* MKS2  0.0807396     0.0814     0.052     33.25     38.75       2.4\n",
      "  LDA2  0.0818212     0.0715     0.051    251.55     42.22       1.9\n",
      "  L2    0.0820236     0.0142     0.038    278.37    168.64      0.14\n",
      "  T2    0.0832193     0.0070     0.035     18.99    213.73      0.04\n",
      "  S2    0.0833333     0.0064     0.031     50.26    220.73     0.043\n",
      "  R2    0.0834474     0.0232     0.040    333.87    125.39      0.34\n",
      "  K2    0.0835615     0.0149     0.035    161.82    170.82      0.18\n",
      "  MSN2  0.0848455     0.0075     0.039     69.26    221.53     0.037\n",
      "  ETA2  0.0850736     0.0274     0.045    174.38    102.43      0.37\n",
      "  MO3   0.1192421     0.0010     0.002    220.94    110.03      0.39\n",
      "  M3    0.1207671     0.0006     0.001    222.03    167.35      0.19\n",
      "  SO3   0.1220640     0.0006     0.002    295.00    161.18      0.18\n",
      "  MK3   0.1222921     0.0003     0.002    225.85    227.68     0.041\n",
      "  SK3   0.1251141     0.0009     0.002    353.16    131.00      0.31\n",
      "  MN4   0.1595106     0.0004     0.001    262.83    170.94      0.17\n",
      "  M4    0.1610228     0.0003     0.001    250.78    175.92     0.084\n",
      "  SN4   0.1623326     0.0004     0.001    162.21    135.62       0.3\n",
      "  MS4   0.1638447     0.0008     0.001    180.84     89.80      0.66\n",
      "  MK4   0.1640729     0.0006     0.001    178.34    103.80      0.37\n",
      "  S4    0.1666667     0.0006     0.001    298.98    121.81      0.37\n",
      "  SK4   0.1668948     0.0005     0.001    343.67    140.24      0.24\n",
      "  2MK5  0.2028035     0.0005     0.001    141.28    106.12      0.34\n",
      "  2SK5  0.2084474     0.0003     0.001    151.04    139.18      0.14\n",
      "  2MN6  0.2400221     0.0003     0.001    287.22    139.11      0.23\n",
      "  M6    0.2415342     0.0002     0.001     51.46    200.72     0.059\n",
      "  2MS6  0.2443561     0.0000     0.001    139.01    249.23   0.00089\n",
      "  2MK6  0.2445843     0.0003     0.001    282.05    169.09      0.14\n",
      "  2SM6  0.2471781     0.0001     0.001    155.20    209.33     0.023\n",
      "  MSK6  0.2474062     0.0005     0.001     44.90    110.93      0.47\n",
      "  3MK7  0.2833149     0.0006     0.001    242.42     83.62      0.62\n",
      "  M8    0.3220456     0.0002     0.001    154.04    126.90      0.22\n"
     ]
    },
    {
     "name": "stderr",
     "output_type": "stream",
     "text": [
      "C:\\Users\\sergi\\Anaconda3\\lib\\site-packages\\ttide-0.3_exp-py3.7.egg\\ttide\\t_utils.py:447: FutureWarning: `real` is deprecated and will be removed in a future version. To eliminate this warning for a Series `ser`, use `np.real(ser.to_numpy())` or `ser.to_numpy().real`.\n",
      "  x = np.var(out['xingd'].real, ddof=1)\n",
      "C:\\Users\\sergi\\Anaconda3\\lib\\site-packages\\ttide-0.3_exp-py3.7.egg\\ttide\\t_utils.py:449: FutureWarning: `real` is deprecated and will be removed in a future version. To eliminate this warning for a Series `ser`, use `np.real(ser.to_numpy())` or `ser.to_numpy().real`.\n",
      "  xr = np.var(out['xresgd'].real, ddof=1)\n"
     ]
    }
   ],
   "source": [
    "out = t_tide(s['prs(m)'], dt=0.0166667, stime=df2.index[0], lat=-33.02730833)\n",
    "#out = t_tide(dfp['prs(m) predictions'], dt=0.016, lat=np.array(-33.02730833))"
   ]
  },
  {
   "cell_type": "code",
   "execution_count": 33,
   "metadata": {},
   "outputs": [
    {
     "data": {
      "text/plain": [
       "dict_keys(['nobs', 'ngood', 'dt', 'xin', 'xout', 'xres', 'xingd', 'xoutgd', 'xresgd', 'isComplex', 'ray', 'nodcor', 'z0', 'dz0', 'fu', 'nameu', 'tidecon', 'snr', 'synth', 'lat', 'ltype', 'stime'])"
      ]
     },
     "execution_count": 33,
     "metadata": {},
     "output_type": "execute_result"
    }
   ],
   "source": [
    "out.keys()"
   ]
  },
  {
   "cell_type": "code",
   "execution_count": 107,
   "metadata": {},
   "outputs": [],
   "source": [
    "out.get(\"stime\")"
   ]
  },
  {
   "cell_type": "code",
   "execution_count": 43,
   "metadata": {},
   "outputs": [
    {
     "data": {
      "text/plain": [
       "0.016"
      ]
     },
     "execution_count": 43,
     "metadata": {},
     "output_type": "execute_result"
    }
   ],
   "source": [
    "out.get(\"dt\")"
   ]
  },
  {
   "cell_type": "code",
   "execution_count": 41,
   "metadata": {},
   "outputs": [
    {
     "ename": "TypeError",
     "evalue": "t_predic() missing 1 required positional argument: 'time'",
     "output_type": "error",
     "traceback": [
      "\u001b[1;31m---------------------------------------------------------------------------\u001b[0m",
      "\u001b[1;31mTypeError\u001b[0m                                 Traceback (most recent call last)",
      "\u001b[1;32m<ipython-input-41-ab5fa49f5d02>\u001b[0m in \u001b[0;36m<module>\u001b[1;34m\u001b[0m\n\u001b[1;32m----> 1\u001b[1;33m \u001b[0mout\u001b[0m\u001b[1;33m.\u001b[0m\u001b[0mt_predic\u001b[0m\u001b[1;33m(\u001b[0m\u001b[1;33m)\u001b[0m\u001b[1;33m\u001b[0m\u001b[1;33m\u001b[0m\u001b[0m\n\u001b[0m",
      "\u001b[1;31mTypeError\u001b[0m: t_predic() missing 1 required positional argument: 'time'"
     ]
    }
   ],
   "source": [
    "out.t_predic()"
   ]
  },
  {
   "cell_type": "code",
   "execution_count": null,
   "metadata": {},
   "outputs": [],
   "source": []
  }
 ],
 "metadata": {
  "kernelspec": {
   "display_name": "Python 3",
   "language": "python",
   "name": "python3"
  },
  "language_info": {
   "codemirror_mode": {
    "name": "ipython",
    "version": 3
   },
   "file_extension": ".py",
   "mimetype": "text/x-python",
   "name": "python",
   "nbconvert_exporter": "python",
   "pygments_lexer": "ipython3",
   "version": "3.7.4"
  }
 },
 "nbformat": 4,
 "nbformat_minor": 2
}
