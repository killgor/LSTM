{
 "cells": [
  {
   "cell_type": "code",
   "execution_count": 39,
   "metadata": {},
   "outputs": [],
   "source": [
    "from ttide.t_tide import t_tide\n",
    "import ttide\n",
    "import pandas as pd\n",
    "import matplotlib\n",
    "from matplotlib import pyplot as plt"
   ]
  },
  {
   "cell_type": "code",
   "execution_count": null,
   "metadata": {},
   "outputs": [],
   "source": [
    "## todo data1m into data2y(?)"
   ]
  },
  {
   "cell_type": "code",
   "execution_count": 2,
   "metadata": {},
   "outputs": [
    {
     "data": {
      "text/html": [
       "<div>\n",
       "<style scoped>\n",
       "    .dataframe tbody tr th:only-of-type {\n",
       "        vertical-align: middle;\n",
       "    }\n",
       "\n",
       "    .dataframe tbody tr th {\n",
       "        vertical-align: top;\n",
       "    }\n",
       "\n",
       "    .dataframe thead th {\n",
       "        text-align: right;\n",
       "    }\n",
       "</style>\n",
       "<table border=\"1\" class=\"dataframe\">\n",
       "  <thead>\n",
       "    <tr style=\"text-align: right;\">\n",
       "      <th></th>\n",
       "      <th>prs(m)</th>\n",
       "    </tr>\n",
       "    <tr>\n",
       "      <th>Time(UTC)</th>\n",
       "      <th></th>\n",
       "    </tr>\n",
       "  </thead>\n",
       "  <tbody>\n",
       "    <tr>\n",
       "      <td>2016-12-31 00:00:52</td>\n",
       "      <td>2.369</td>\n",
       "    </tr>\n",
       "    <tr>\n",
       "      <td>2016-12-31 00:01:53</td>\n",
       "      <td>2.360</td>\n",
       "    </tr>\n",
       "    <tr>\n",
       "      <td>2016-12-31 00:02:52</td>\n",
       "      <td>2.369</td>\n",
       "    </tr>\n",
       "    <tr>\n",
       "      <td>2016-12-31 00:03:53</td>\n",
       "      <td>2.361</td>\n",
       "    </tr>\n",
       "    <tr>\n",
       "      <td>2016-12-31 00:04:53</td>\n",
       "      <td>2.392</td>\n",
       "    </tr>\n",
       "  </tbody>\n",
       "</table>\n",
       "</div>"
      ],
      "text/plain": [
       "                     prs(m)\n",
       "Time(UTC)                  \n",
       "2016-12-31 00:00:52   2.369\n",
       "2016-12-31 00:01:53   2.360\n",
       "2016-12-31 00:02:52   2.369\n",
       "2016-12-31 00:03:53   2.361\n",
       "2016-12-31 00:04:53   2.392"
      ]
     },
     "execution_count": 2,
     "metadata": {},
     "output_type": "execute_result"
    }
   ],
   "source": [
    "#load dataset, Time(UTC),prs(m),rad(m)\n",
    "df2 = pd.read_csv('data2y.csv',sep=',', header=0, index_col=0, squeeze=True, parse_dates=True)\n",
    "#non-null object to float64\n",
    "df2['prs(m)'] = pd.to_numeric(df2['prs(m)'], errors='coerce')\n",
    "#prs(m) looks more stable\n",
    "df2.drop(df2.columns[[1]], axis=1, inplace=True)\n",
    "\n",
    "s = df2.interpolate()\n",
    "s.head()"
   ]
  },
  {
   "cell_type": "code",
   "execution_count": 3,
   "metadata": {
    "scrolled": true
   },
   "outputs": [
    {
     "data": {
      "text/plain": [
       "Timestamp('2016-12-31 00:00:52')"
      ]
     },
     "execution_count": 3,
     "metadata": {},
     "output_type": "execute_result"
    }
   ],
   "source": [
    "df2.index[0]"
   ]
  },
  {
   "cell_type": "code",
   "execution_count": 33,
   "metadata": {},
   "outputs": [],
   "source": [
    "serie= s['prs(m)'] \n",
    "dt = 0.0166667\n",
    "stime = df2.index[0]\n",
    "lat = -33.02730833"
   ]
  },
  {
   "cell_type": "code",
   "execution_count": 42,
   "metadata": {},
   "outputs": [
    {
     "data": {
      "text/plain": [
       "720.1305555555556"
      ]
     },
     "execution_count": 42,
     "metadata": {},
     "output_type": "execute_result"
    }
   ],
   "source": [
    "1036988/60/24"
   ]
  },
  {
   "cell_type": "code",
   "execution_count": 34,
   "metadata": {},
   "outputs": [
    {
     "name": "stderr",
     "output_type": "stream",
     "text": [
      "/home/killgor/anaconda3/lib/python3.7/site-packages/ttide-0.3_exp-py3.7.egg/ttide/t_tide.py:345: FutureWarning: `rcond` parameter will change to the default of machine precision times ``max(M, N)`` where M and N are the input matrix dimensions.\n",
      "To use the future default and silence this warning we advise to pass `rcond=None`, to keep using the old, explicitly pass `rcond=-1`.\n",
      "  coef = np.linalg.lstsq(lhs, rhs)[0].T\n",
      "/home/killgor/anaconda3/lib/python3.7/site-packages/numpy/lib/type_check.py:161: FutureWarning: `real` is deprecated and will be removed in a future version. To eliminate this warning for a Series `ser`, use `np.real(ser.to_numpy())` or `ser.to_numpy().real`.\n",
      "  return val.real\n",
      "/home/killgor/anaconda3/lib/python3.7/site-packages/numpy/lib/type_check.py:204: FutureWarning: `imag` is deprecated and will be removed in a future version. To eliminate this warning for a Series `ser`, use `np.imag(ser.to_numpy())` or `ser.to_numpy().imag`.\n",
      "  return val.imag\n"
     ]
    },
    {
     "name": "stdout",
     "output_type": "stream",
     "text": [
      "-----------------------------------\n",
      "nobs = 1036988 \n",
      "ngood = 1036987 \n",
      "record length (days) = 720.13\n",
      "start time: 2016-12-31 00:00:52\n",
      "rayleigh criterion = 1.0\n",
      "\n",
      "Greenwich phase computed with nodal\n",
      "                   corrections applied to amplitude\n",
      "                   and phase relative to center time\n",
      "\n",
      "x0= 2.31  xtrend= 0\n",
      "var(data)= 0.14    var(prediction)= 0.02    var(residual)= 0.13\n",
      "var(prediction)/var(data) (%) = 14.3\n",
      "\n",
      "        tidal amplitude and phase with 95 % CI estimates\n",
      " tide      freq        amp      amp_err   pha      pha_err    snr\n",
      "* SA    0.0001141     0.0463     0.017    244.10     32.48       7.7\n",
      "* SSA   0.0002282     0.0490     0.021    200.23     26.18       5.6\n",
      "  MSM   0.0013098     0.0020     0.015    346.22    249.85     0.018\n",
      "  MM    0.0015122     0.0091     0.018    233.60     90.63      0.25\n",
      "  MSF   0.0028219     0.0019     0.014    338.50    173.16     0.018\n",
      "  MF    0.0030501     0.0030     0.013    146.03    198.86     0.055\n",
      "  ALP1  0.0343966     0.0008     0.017    202.14    246.83     0.002\n",
      "  2Q1   0.0357064     0.0014     0.018    352.81    272.09    0.0064\n",
      "  SIG1  0.0359087     0.0023     0.016     47.59    256.65     0.021\n",
      "  Q1    0.0372185     0.0019     0.015     88.64    221.59     0.016\n",
      "  RHO1  0.0374209     0.0054     0.017    231.22    179.93       0.1\n",
      "  O1    0.0387307     0.0029     0.017    128.83    223.30     0.031\n",
      "  TAU1  0.0389588     0.0216     0.017    192.97     51.10       1.5\n",
      "  BET1  0.0400404     0.0133     0.021    296.21    111.85      0.39\n",
      "  NO1   0.0402686     0.0075     0.022    228.43    184.50      0.12\n",
      "  CHI1  0.0404710     0.0011     0.018    198.46    242.95    0.0038\n",
      "  PI1   0.0414385     0.0053     0.015     57.36    170.56      0.12\n",
      "  P1    0.0415526     0.0069     0.015      8.58    153.19       0.2\n",
      "  S1    0.0416667     0.0355     0.031    232.81     51.95       1.3\n",
      "  K1    0.0417807     0.0253     0.024     89.23     58.95       1.1\n",
      "  PSI1  0.0418948     0.0082     0.016    122.06    148.07      0.27\n",
      "  PHI1  0.0420089     0.0197     0.021     31.30     66.99      0.88\n",
      "  THE1  0.0430905     0.0171     0.022    263.92     91.44      0.62\n",
      "  J1    0.0432929     0.0076     0.018    145.12    135.17      0.17\n",
      "  SO1   0.0446027     0.0051     0.014    134.31    171.31      0.13\n",
      "  OO1   0.0448308     0.0096     0.031    356.15    192.81     0.096\n",
      "  UPS1  0.0463430     0.0053     0.026    241.33    244.84     0.042\n",
      "  OQ2   0.0759749     0.0051     0.043    315.10    232.97     0.014\n",
      "  EPS2  0.0761773     0.0073     0.034    185.34    198.67     0.048\n",
      "  2N2   0.0774871     0.0075     0.036    190.43    185.82     0.044\n",
      "  MU2   0.0776895     0.0030     0.031     68.98    264.59    0.0093\n",
      "  N2    0.0789992     0.0068     0.032     30.51    194.25     0.044\n",
      "  NU2   0.0792016     0.0183     0.034    180.73    136.64      0.28\n",
      "* GAM2  0.0803090     0.1265     0.049    165.51     22.11       6.7\n",
      "* H1    0.0803973     0.0975     0.043    137.41     28.45       5.2\n",
      "  M2    0.0805114     0.0327     0.044    324.21     86.73      0.55\n",
      "* H2    0.0806255     0.0830     0.050     10.04     36.75       2.8\n",
      "* MKS2  0.0807396     0.0970     0.060     68.82     35.95       2.6\n",
      "  LDA2  0.0818212     0.0692     0.055    204.08     42.45       1.6\n",
      "  L2    0.0820236     0.0117     0.031    229.25    180.86      0.14\n",
      "  T2    0.0832193     0.0070     0.034     74.94    226.01     0.043\n",
      "  S2    0.0833333     0.0064     0.037     97.79    236.82     0.031\n",
      "  R2    0.0834474     0.0187     0.035    198.69     99.66      0.28\n",
      "  K2    0.0835615     0.0182     0.045     26.08    176.42      0.16\n",
      "  MSN2  0.0848455     0.0075     0.035     30.27    204.09     0.047\n",
      "  ETA2  0.0850736     0.0400     0.052    304.77     95.91      0.58\n",
      "  MO3   0.1192421     0.0011     0.002    280.37    109.08      0.38\n",
      "  M3    0.1207671     0.0006     0.001    190.33    157.39      0.19\n",
      "  SO3   0.1220640     0.0007     0.002    183.12    138.82      0.18\n",
      "  MK3   0.1222921     0.0003     0.001    106.40    195.65      0.06\n",
      "  SK3   0.1251141     0.0010     0.002     62.40    129.44      0.36\n",
      "  MN4   0.1595106     0.0004     0.001     67.05    147.09      0.17\n",
      "  M4    0.1610228     0.0002     0.001    328.47    181.55      0.09\n",
      "  SN4   0.1623326     0.0004     0.001    155.12    148.85      0.23\n",
      "  MS4   0.1638447     0.0008     0.001     87.22     90.78      0.41\n",
      "  MK4   0.1640729     0.0007     0.001    261.45    111.50      0.31\n",
      "  S4    0.1666667     0.0006     0.001     34.05    119.79      0.29\n",
      "  SK4   0.1668948     0.0006     0.001    255.46    142.04       0.3\n",
      "  2MK5  0.2028035     0.0006     0.001    240.68    103.72      0.33\n",
      "  2SK5  0.2084474     0.0003     0.001    267.82    168.20      0.11\n",
      "  2MN6  0.2400221     0.0003     0.001    310.30    142.51      0.28\n",
      "  M6    0.2415342     0.0002     0.001    348.00    207.18     0.065\n",
      "  2MS6  0.2443561     0.0000     0.001    264.24    252.77    0.0011\n",
      "  2MK6  0.2445843     0.0003     0.001    224.01    155.36      0.15\n",
      "  2SM6  0.2471781     0.0001     0.001    109.12    247.77     0.021\n",
      "  MSK6  0.2474062     0.0006     0.001    175.54    110.71      0.54\n",
      "  3MK7  0.2833149     0.0006     0.001    200.67     89.83      0.67\n",
      "  M8    0.3220456     0.0002     0.000    309.43    132.46      0.29\n"
     ]
    },
    {
     "name": "stderr",
     "output_type": "stream",
     "text": [
      "/home/killgor/anaconda3/lib/python3.7/site-packages/ttide-0.3_exp-py3.7.egg/ttide/t_utils.py:447: FutureWarning: `real` is deprecated and will be removed in a future version. To eliminate this warning for a Series `ser`, use `np.real(ser.to_numpy())` or `ser.to_numpy().real`.\n",
      "  x = np.var(out['xingd'].real, ddof=1)\n",
      "/home/killgor/anaconda3/lib/python3.7/site-packages/ttide-0.3_exp-py3.7.egg/ttide/t_utils.py:449: FutureWarning: `real` is deprecated and will be removed in a future version. To eliminate this warning for a Series `ser`, use `np.real(ser.to_numpy())` or `ser.to_numpy().real`.\n",
      "  xr = np.var(out['xresgd'].real, ddof=1)\n"
     ]
    }
   ],
   "source": [
    "out = t_tide(serie, dt, stime, lat)\n",
    "#out = t_tide(dfp['prs(m) predictions'], dt=0.016, lat=np.array(-33.02730833))"
   ]
  },
  {
   "cell_type": "code",
   "execution_count": 27,
   "metadata": {
    "scrolled": true
   },
   "outputs": [
    {
     "data": {
      "text/plain": [
       "Timestamp('2018-12-30 23:59:19')"
      ]
     },
     "execution_count": 27,
     "metadata": {},
     "output_type": "execute_result"
    }
   ],
   "source": [
    "df2.index[-1]"
   ]
  },
  {
   "cell_type": "code",
   "execution_count": 28,
   "metadata": {
    "scrolled": true
   },
   "outputs": [
    {
     "data": {
      "text/plain": [
       "dict_keys(['nobs', 'ngood', 'dt', 'xin', 'xout', 'xres', 'xingd', 'xoutgd', 'xresgd', 'isComplex', 'ray', 'nodcor', 'z0', 'dz0', 'fu', 'nameu', 'tidecon', 'snr', 'synth', 'lat', 'ltype', 'stime'])"
      ]
     },
     "execution_count": 28,
     "metadata": {},
     "output_type": "execute_result"
    }
   ],
   "source": [
    "out.keys()"
   ]
  },
  {
   "cell_type": "code",
   "execution_count": null,
   "metadata": {},
   "outputs": [],
   "source": [
    "dates = read_csv('predictions.csv',sep=',', header=0, index_col=0, squeeze=True, parse_dates=True)"
   ]
  },
  {
   "cell_type": "code",
   "execution_count": null,
   "metadata": {},
   "outputs": [],
   "source": [
    "#getting te timestamp"
   ]
  },
  {
   "cell_type": "code",
   "execution_count": 41,
   "metadata": {
    "scrolled": true
   },
   "outputs": [
    {
     "data": {
      "text/plain": [
       "array([nan, nan, nan, ..., nan, nan, nan])"
      ]
     },
     "execution_count": 41,
     "metadata": {},
     "output_type": "execute_result"
    }
   ],
   "source": [
    "ttide.t_predic(df2.values, out.get(\"nameu\"), out.get(\"fu\"), out.get(\"tidecon\"), lat)"
   ]
  }
 ],
 "metadata": {
  "kernelspec": {
   "display_name": "Python 3",
   "language": "python",
   "name": "python3"
  },
  "language_info": {
   "codemirror_mode": {
    "name": "ipython",
    "version": 3
   },
   "file_extension": ".py",
   "mimetype": "text/x-python",
   "name": "python",
   "nbconvert_exporter": "python",
   "pygments_lexer": "ipython3",
   "version": "3.7.4"
  }
 },
 "nbformat": 4,
 "nbformat_minor": 2
}
